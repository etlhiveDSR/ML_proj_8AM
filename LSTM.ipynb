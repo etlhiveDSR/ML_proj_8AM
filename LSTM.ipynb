{
 "cells": [
  {
   "cell_type": "markdown",
   "metadata": {},
   "source": [
    "# Load Dataset"
   ]
  },
  {
   "cell_type": "code",
   "execution_count": 50,
   "metadata": {},
   "outputs": [],
   "source": [
    "file = open(\"/users/bajajvbh/Desktop/Vaibhav/Datasets/RHTDM.txt\",mode='r')\n",
    "Q = file.read()"
   ]
  },
  {
   "cell_type": "markdown",
   "metadata": {},
   "source": [
    "# Remove New line chars"
   ]
  },
  {
   "cell_type": "code",
   "execution_count": 51,
   "metadata": {},
   "outputs": [],
   "source": [
    "from re import sub\n",
    "Q = sub(\"[\\n]\",\" \",Q)\n",
    "Q = sub(\"[^a-zA-Z0-9 ]\",\"\",Q)"
   ]
  },
  {
   "cell_type": "markdown",
   "metadata": {},
   "source": [
    "# Unify Cases and tokenizing"
   ]
  },
  {
   "cell_type": "code",
   "execution_count": 52,
   "metadata": {},
   "outputs": [],
   "source": [
    "Q = Q.upper().split(\" \")"
   ]
  },
  {
   "cell_type": "code",
   "execution_count": 53,
   "metadata": {},
   "outputs": [],
   "source": [
    "#Q"
   ]
  },
  {
   "cell_type": "markdown",
   "metadata": {},
   "source": [
    "# Convert Data in 3->1 format"
   ]
  },
  {
   "cell_type": "code",
   "execution_count": 54,
   "metadata": {},
   "outputs": [],
   "source": [
    "inp = []\n",
    "op = []\n",
    "for i in range(3,len(Q),1):\n",
    "    w1 = Q[i-3]\n",
    "    w2 = Q[i-2]\n",
    "    w3 = Q[i-1]\n",
    "    w4 = Q[i]\n",
    "    inp.append(w1 + \" \" + w2 + \" \" + w3)\n",
    "    op.append(w4)"
   ]
  },
  {
   "cell_type": "markdown",
   "metadata": {},
   "source": [
    "# Create Dataframe for the same"
   ]
  },
  {
   "cell_type": "code",
   "execution_count": 55,
   "metadata": {},
   "outputs": [],
   "source": [
    "import pandas as pd\n",
    "Q1 = pd.DataFrame([inp,op]).T\n",
    "Q1.columns=[\"inp\",\"op\"]"
   ]
  },
  {
   "cell_type": "code",
   "execution_count": 56,
   "metadata": {},
   "outputs": [
    {
     "data": {
      "text/html": [
       "<div>\n",
       "<style scoped>\n",
       "    .dataframe tbody tr th:only-of-type {\n",
       "        vertical-align: middle;\n",
       "    }\n",
       "\n",
       "    .dataframe tbody tr th {\n",
       "        vertical-align: top;\n",
       "    }\n",
       "\n",
       "    .dataframe thead th {\n",
       "        text-align: right;\n",
       "    }\n",
       "</style>\n",
       "<table border=\"1\" class=\"dataframe\">\n",
       "  <thead>\n",
       "    <tr style=\"text-align: right;\">\n",
       "      <th></th>\n",
       "      <th>inp</th>\n",
       "      <th>op</th>\n",
       "    </tr>\n",
       "  </thead>\n",
       "  <tbody>\n",
       "    <tr>\n",
       "      <th>0</th>\n",
       "      <td>SACH KEH RAHA</td>\n",
       "      <td>HAI</td>\n",
       "    </tr>\n",
       "    <tr>\n",
       "      <th>1</th>\n",
       "      <td>KEH RAHA HAI</td>\n",
       "      <td>DEEWANA</td>\n",
       "    </tr>\n",
       "    <tr>\n",
       "      <th>2</th>\n",
       "      <td>RAHA HAI DEEWANA</td>\n",
       "      <td>DIL</td>\n",
       "    </tr>\n",
       "    <tr>\n",
       "      <th>3</th>\n",
       "      <td>HAI DEEWANA DIL</td>\n",
       "      <td>DIL</td>\n",
       "    </tr>\n",
       "    <tr>\n",
       "      <th>4</th>\n",
       "      <td>DEEWANA DIL DIL</td>\n",
       "      <td>NA</td>\n",
       "    </tr>\n",
       "  </tbody>\n",
       "</table>\n",
       "</div>"
      ],
      "text/plain": [
       "                inp       op\n",
       "0     SACH KEH RAHA      HAI\n",
       "1      KEH RAHA HAI  DEEWANA\n",
       "2  RAHA HAI DEEWANA      DIL\n",
       "3   HAI DEEWANA DIL      DIL\n",
       "4   DEEWANA DIL DIL       NA"
      ]
     },
     "execution_count": 56,
     "metadata": {},
     "output_type": "execute_result"
    }
   ],
   "source": [
    "Q1.head()"
   ]
  },
  {
   "cell_type": "markdown",
   "metadata": {},
   "source": [
    "# Define array for X"
   ]
  },
  {
   "cell_type": "code",
   "execution_count": 57,
   "metadata": {},
   "outputs": [
    {
     "data": {
      "text/plain": [
       "283"
      ]
     },
     "execution_count": 57,
     "metadata": {},
     "output_type": "execute_result"
    }
   ],
   "source": [
    "len(inp)"
   ]
  },
  {
   "cell_type": "code",
   "execution_count": 58,
   "metadata": {},
   "outputs": [
    {
     "data": {
      "text/plain": [
       "93"
      ]
     },
     "execution_count": 58,
     "metadata": {},
     "output_type": "execute_result"
    }
   ],
   "source": [
    "from numpy import unique\n",
    "unique_words = list(unique(Q))\n",
    "len(unique_words)"
   ]
  },
  {
   "cell_type": "code",
   "execution_count": 61,
   "metadata": {},
   "outputs": [],
   "source": [
    "from numpy import zeros\n",
    "X = zeros((283,93,3))"
   ]
  },
  {
   "cell_type": "markdown",
   "metadata": {},
   "source": [
    "# Fill Data in blank array X"
   ]
  },
  {
   "cell_type": "code",
   "execution_count": 62,
   "metadata": {},
   "outputs": [],
   "source": [
    "for line_no, line in enumerate(inp):\n",
    "    for word_no,word in enumerate(line.split(\" \")):\n",
    "        X[line_no,unique_words.index(word),word_no] = 1"
   ]
  },
  {
   "cell_type": "markdown",
   "metadata": {},
   "source": [
    "# Cross check(\"LAGAANA\")"
   ]
  },
  {
   "cell_type": "code",
   "execution_count": 63,
   "metadata": {},
   "outputs": [
    {
     "data": {
      "text/plain": [
       "1.0"
      ]
     },
     "execution_count": 63,
     "metadata": {},
     "output_type": "execute_result"
    }
   ],
   "source": [
    "X[8,47,2]"
   ]
  },
  {
   "cell_type": "code",
   "execution_count": 64,
   "metadata": {},
   "outputs": [
    {
     "data": {
      "text/plain": [
       "47"
      ]
     },
     "execution_count": 64,
     "metadata": {},
     "output_type": "execute_result"
    }
   ],
   "source": [
    "unique_words.index(\"LAGAANA\")"
   ]
  },
  {
   "cell_type": "code",
   "execution_count": 65,
   "metadata": {},
   "outputs": [],
   "source": [
    "#inp"
   ]
  },
  {
   "cell_type": "markdown",
   "metadata": {},
   "source": [
    "# Prepare Output"
   ]
  },
  {
   "cell_type": "code",
   "execution_count": 66,
   "metadata": {},
   "outputs": [],
   "source": [
    "Y = zeros((283,93))\n",
    "for line_no, word in enumerate(list(Q1.op)):\n",
    "    Y[line_no,unique_words.index(word)]=1"
   ]
  },
  {
   "cell_type": "code",
   "execution_count": 67,
   "metadata": {},
   "outputs": [
    {
     "data": {
      "text/plain": [
       "array([[0., 0., 0., ..., 0., 0., 0.],\n",
       "       [0., 0., 0., ..., 0., 0., 0.],\n",
       "       [0., 0., 0., ..., 0., 0., 0.],\n",
       "       ...,\n",
       "       [0., 0., 0., ..., 0., 0., 0.],\n",
       "       [0., 0., 0., ..., 0., 0., 0.],\n",
       "       [0., 0., 0., ..., 0., 0., 0.]])"
      ]
     },
     "execution_count": 67,
     "metadata": {},
     "output_type": "execute_result"
    }
   ],
   "source": [
    "Y"
   ]
  },
  {
   "cell_type": "markdown",
   "metadata": {},
   "source": [
    "# Verify"
   ]
  },
  {
   "cell_type": "code",
   "execution_count": 68,
   "metadata": {},
   "outputs": [
    {
     "data": {
      "text/plain": [
       "73"
      ]
     },
     "execution_count": 68,
     "metadata": {},
     "output_type": "execute_result"
    }
   ],
   "source": [
    "unique_words.index(\"RAHA\")"
   ]
  },
  {
   "cell_type": "code",
   "execution_count": 69,
   "metadata": {},
   "outputs": [
    {
     "data": {
      "text/plain": [
       "1.0"
      ]
     },
     "execution_count": 69,
     "metadata": {},
     "output_type": "execute_result"
    }
   ],
   "source": [
    "Y[10,73]"
   ]
  },
  {
   "cell_type": "code",
   "execution_count": 73,
   "metadata": {},
   "outputs": [
    {
     "data": {
      "text/plain": [
       "['',\n",
       " 'AAH',\n",
       " 'AAKE',\n",
       " 'AB',\n",
       " 'BADA',\n",
       " 'BADI',\n",
       " 'BAS',\n",
       " 'BASI',\n",
       " 'BATA',\n",
       " 'BEHAKA',\n",
       " 'BHAR',\n",
       " 'BHOOLA',\n",
       " 'BIN',\n",
       " 'CHAAHA',\n",
       " 'CHAAHOON',\n",
       " 'CHAAHOONGA',\n",
       " 'CHHODA',\n",
       " 'CHHODAA',\n",
       " 'DE',\n",
       " 'DEEWANA',\n",
       " 'DEKHA',\n",
       " 'DIL',\n",
       " 'DIN',\n",
       " 'DOONGA',\n",
       " 'DOOR',\n",
       " 'EK',\n",
       " 'HAI',\n",
       " 'HAR',\n",
       " 'HASEENA',\n",
       " 'HUA',\n",
       " 'JAA',\n",
       " 'JEEVAN',\n",
       " 'JHOOTHE',\n",
       " 'JHOOTHI',\n",
       " 'JISE',\n",
       " 'JISSE',\n",
       " 'KAMI',\n",
       " 'KASMEIN',\n",
       " 'KE',\n",
       " 'KEH',\n",
       " 'KHONE',\n",
       " 'KI',\n",
       " 'KISI',\n",
       " 'KO',\n",
       " 'KYOON',\n",
       " 'LA',\n",
       " 'LAGA',\n",
       " 'LAGAANA',\n",
       " 'LAI',\n",
       " 'LALLA',\n",
       " 'LAMHA',\n",
       " 'LE',\n",
       " 'MAIN',\n",
       " 'MAINE',\n",
       " 'MANN',\n",
       " 'MAUSAM',\n",
       " 'MEIN',\n",
       " 'MERA',\n",
       " 'MERE',\n",
       " 'MERI',\n",
       " 'MITA',\n",
       " 'NA',\n",
       " 'NASHE',\n",
       " 'NAZRON',\n",
       " 'NE',\n",
       " 'NISHAAN',\n",
       " 'OH',\n",
       " 'PAAGAL',\n",
       " 'PAL',\n",
       " 'PATTHAR',\n",
       " 'PIYE',\n",
       " 'POOJA',\n",
       " 'PYAAR',\n",
       " 'RAHA',\n",
       " 'SAARE',\n",
       " 'SACH',\n",
       " 'SE',\n",
       " 'SUHAANA',\n",
       " 'SUNDAR',\n",
       " 'TANHA',\n",
       " 'THA',\n",
       " 'TO',\n",
       " 'TODA',\n",
       " 'US',\n",
       " 'USKE',\n",
       " 'USKI',\n",
       " 'USSE',\n",
       " 'USSI',\n",
       " 'WADE',\n",
       " 'WO',\n",
       " 'WOH',\n",
       " 'YAAR',\n",
       " 'YAARON']"
      ]
     },
     "execution_count": 73,
     "metadata": {},
     "output_type": "execute_result"
    }
   ],
   "source": [
    "unique_words"
   ]
  },
  {
   "cell_type": "markdown",
   "metadata": {},
   "source": [
    "# Create LSTM model"
   ]
  },
  {
   "cell_type": "code",
   "execution_count": 77,
   "metadata": {},
   "outputs": [],
   "source": [
    "from keras.models import Sequential\n",
    "from keras.layers import Dense,Dropout,LSTM\n",
    "from keras.layers.core import Activation"
   ]
  },
  {
   "cell_type": "code",
   "execution_count": 93,
   "metadata": {},
   "outputs": [],
   "source": [
    "nn = Sequential()\n",
    "nn.add(LSTM(100,input_shape=(93,3)))\n",
    "nn.add(Dense(93))\n",
    "nn.add(Activation(\"softmax\"))"
   ]
  },
  {
   "cell_type": "code",
   "execution_count": 96,
   "metadata": {},
   "outputs": [
    {
     "name": "stdout",
     "output_type": "stream",
     "text": [
      "Epoch 1/40\n",
      "8/8 [==============================] - 1s 186ms/step - loss: 4.1842 - accuracy: 0.0664 - val_loss: 7.1957 - val_accuracy: 0.0175\n",
      "Epoch 2/40\n",
      "8/8 [==============================] - 1s 85ms/step - loss: 4.1512 - accuracy: 0.0619 - val_loss: 7.3303 - val_accuracy: 0.0175\n",
      "Epoch 3/40\n",
      "8/8 [==============================] - 1s 73ms/step - loss: 4.1435 - accuracy: 0.0664 - val_loss: 7.4737 - val_accuracy: 0.0175\n",
      "Epoch 4/40\n",
      "8/8 [==============================] - 1s 73ms/step - loss: 4.1403 - accuracy: 0.0664 - val_loss: 7.5506 - val_accuracy: 0.0175\n",
      "Epoch 5/40\n",
      "8/8 [==============================] - 1s 75ms/step - loss: 4.1378 - accuracy: 0.0664 - val_loss: 7.7173 - val_accuracy: 0.0175\n",
      "Epoch 6/40\n",
      "8/8 [==============================] - 1s 83ms/step - loss: 4.1376 - accuracy: 0.0664 - val_loss: 7.7216 - val_accuracy: 0.0175\n",
      "Epoch 7/40\n",
      "8/8 [==============================] - 1s 72ms/step - loss: 4.1372 - accuracy: 0.0619 - val_loss: 7.6645 - val_accuracy: 0.0175\n",
      "Epoch 8/40\n",
      "8/8 [==============================] - 1s 80ms/step - loss: 4.1345 - accuracy: 0.0619 - val_loss: 7.8057 - val_accuracy: 0.0175\n",
      "Epoch 9/40\n",
      "8/8 [==============================] - 1s 90ms/step - loss: 4.1377 - accuracy: 0.0487 - val_loss: 7.9820 - val_accuracy: 0.0175\n",
      "Epoch 10/40\n",
      "8/8 [==============================] - 1s 83ms/step - loss: 4.1386 - accuracy: 0.0487 - val_loss: 8.0742 - val_accuracy: 0.0175\n",
      "Epoch 11/40\n",
      "8/8 [==============================] - 1s 80ms/step - loss: 4.1367 - accuracy: 0.0664 - val_loss: 8.0205 - val_accuracy: 0.0526\n",
      "Epoch 12/40\n",
      "8/8 [==============================] - 1s 75ms/step - loss: 4.1356 - accuracy: 0.0664 - val_loss: 8.1746 - val_accuracy: 0.0351\n",
      "Epoch 13/40\n",
      "8/8 [==============================] - 1s 74ms/step - loss: 4.1229 - accuracy: 0.0752 - val_loss: 8.2936 - val_accuracy: 0.0526\n",
      "Epoch 14/40\n",
      "8/8 [==============================] - 1s 71ms/step - loss: 4.1218 - accuracy: 0.0664 - val_loss: 8.3151 - val_accuracy: 0.0351\n",
      "Epoch 15/40\n",
      "8/8 [==============================] - 1s 77ms/step - loss: 4.1196 - accuracy: 0.0619 - val_loss: 8.4807 - val_accuracy: 0.0175\n",
      "Epoch 16/40\n",
      "8/8 [==============================] - 1s 90ms/step - loss: 4.1227 - accuracy: 0.0487 - val_loss: 8.4589 - val_accuracy: 0.0351\n",
      "Epoch 17/40\n",
      "8/8 [==============================] - 1s 103ms/step - loss: 4.0999 - accuracy: 0.0796 - val_loss: 8.4276 - val_accuracy: 0.0351\n",
      "Epoch 18/40\n",
      "8/8 [==============================] - 1s 90ms/step - loss: 4.1017 - accuracy: 0.0752 - val_loss: 8.4982 - val_accuracy: 0.0351\n",
      "Epoch 19/40\n",
      "8/8 [==============================] - 1s 82ms/step - loss: 4.0947 - accuracy: 0.0885 - val_loss: 8.4273 - val_accuracy: 0.0526\n",
      "Epoch 20/40\n",
      "8/8 [==============================] - 1s 84ms/step - loss: 4.1010 - accuracy: 0.0575 - val_loss: 8.4985 - val_accuracy: 0.0526\n",
      "Epoch 21/40\n",
      "8/8 [==============================] - 1s 82ms/step - loss: 4.0552 - accuracy: 0.0973 - val_loss: 8.4104 - val_accuracy: 0.0526\n",
      "Epoch 22/40\n",
      "8/8 [==============================] - 1s 87ms/step - loss: 4.0419 - accuracy: 0.0885 - val_loss: 8.4377 - val_accuracy: 0.0526\n",
      "Epoch 23/40\n",
      "8/8 [==============================] - 1s 94ms/step - loss: 4.0179 - accuracy: 0.0973 - val_loss: 8.6442 - val_accuracy: 0.0351\n",
      "Epoch 24/40\n",
      "8/8 [==============================] - 1s 90ms/step - loss: 4.0329 - accuracy: 0.0708 - val_loss: 8.3308 - val_accuracy: 0.0526\n",
      "Epoch 25/40\n",
      "8/8 [==============================] - 1s 100ms/step - loss: 3.9973 - accuracy: 0.1018 - val_loss: 8.2864 - val_accuracy: 0.0526\n",
      "Epoch 26/40\n",
      "8/8 [==============================] - 1s 105ms/step - loss: 3.9501 - accuracy: 0.1195 - val_loss: 8.4335 - val_accuracy: 0.0877\n",
      "Epoch 27/40\n",
      "8/8 [==============================] - 1s 164ms/step - loss: 3.8974 - accuracy: 0.1460 - val_loss: 8.8221 - val_accuracy: 0.0526\n",
      "Epoch 28/40\n",
      "8/8 [==============================] - 1s 106ms/step - loss: 4.1921 - accuracy: 0.0531 - val_loss: 9.0132 - val_accuracy: 0.0175\n",
      "Epoch 29/40\n",
      "8/8 [==============================] - 1s 82ms/step - loss: 4.1883 - accuracy: 0.0487 - val_loss: 8.1959 - val_accuracy: 0.0175\n",
      "Epoch 30/40\n",
      "8/8 [==============================] - 1s 84ms/step - loss: 4.0494 - accuracy: 0.0796 - val_loss: 7.5958 - val_accuracy: 0.0877\n",
      "Epoch 31/40\n",
      "8/8 [==============================] - 1s 94ms/step - loss: 3.9252 - accuracy: 0.1327 - val_loss: 8.0490 - val_accuracy: 0.0877\n",
      "Epoch 32/40\n",
      "8/8 [==============================] - 1s 93ms/step - loss: 3.8652 - accuracy: 0.1327 - val_loss: 8.1987 - val_accuracy: 0.0877\n",
      "Epoch 33/40\n",
      "8/8 [==============================] - 1s 94ms/step - loss: 3.8256 - accuracy: 0.1372 - val_loss: 8.2143 - val_accuracy: 0.0877\n",
      "Epoch 34/40\n",
      "8/8 [==============================] - 1s 102ms/step - loss: 3.7709 - accuracy: 0.1504 - val_loss: 8.2888 - val_accuracy: 0.0877\n",
      "Epoch 35/40\n",
      "8/8 [==============================] - 1s 91ms/step - loss: 3.7382 - accuracy: 0.1372 - val_loss: 8.7546 - val_accuracy: 0.0877\n",
      "Epoch 36/40\n",
      "8/8 [==============================] - 1s 93ms/step - loss: 3.7478 - accuracy: 0.1549 - val_loss: 8.4980 - val_accuracy: 0.0877\n",
      "Epoch 37/40\n",
      "8/8 [==============================] - 1s 99ms/step - loss: 3.6848 - accuracy: 0.1549 - val_loss: 8.2459 - val_accuracy: 0.0877\n",
      "Epoch 38/40\n",
      "8/8 [==============================] - 1s 95ms/step - loss: 3.6424 - accuracy: 0.1504 - val_loss: 8.4644 - val_accuracy: 0.0877\n",
      "Epoch 39/40\n",
      "8/8 [==============================] - 1s 89ms/step - loss: 3.6063 - accuracy: 0.1593 - val_loss: 7.9587 - val_accuracy: 0.1053\n",
      "Epoch 40/40\n",
      "8/8 [==============================] - 1s 90ms/step - loss: 3.5687 - accuracy: 0.1549 - val_loss: 7.8517 - val_accuracy: 0.0877\n"
     ]
    }
   ],
   "source": [
    "nn.compile(loss=\"categorical_crossentropy\",metrics=\"accuracy\",optimizer=\"adam\")\n",
    "model = nn.fit(X,Y,validation_split=0.2,epochs=40)"
   ]
  },
  {
   "cell_type": "code",
   "execution_count": 99,
   "metadata": {},
   "outputs": [],
   "source": [
    "acc = model.history['accuracy']\n",
    "val_acc = model.history['val_accuracy']"
   ]
  },
  {
   "cell_type": "code",
   "execution_count": 101,
   "metadata": {},
   "outputs": [
    {
     "data": {
      "text/plain": [
       "[<matplotlib.lines.Line2D at 0x13eb3f278>]"
      ]
     },
     "execution_count": 101,
     "metadata": {},
     "output_type": "execute_result"
    },
    {
     "data": {
      "image/png": "[encoded data removed]",
      "text/plain": [
       "<Figure size 432x288 with 1 Axes>"
      ]
     },
     "metadata": {
      "needs_background": "light"
     },
     "output_type": "display_data"
    }
   ],
   "source": [
    "import matplotlib.pyplot as plt\n",
    "plt.plot(acc)\n",
    "plt.plot(val_acc)"
   ]
  },
  {
   "cell_type": "markdown",
   "metadata": {},
   "source": [
    "# Testing"
   ]
  },
  {
   "cell_type": "code",
   "execution_count": 138,
   "metadata": {},
   "outputs": [
    {
     "name": "stdout",
     "output_type": "stream",
     "text": [
      "Enter words(3) : Woh haseena badi\n"
     ]
    }
   ],
   "source": [
    "ip = input(\"Enter words(3) : \").upper()\n",
    "ip = sub(\"[^a-zA-Z0-9 ]\",\"\",ip)\n",
    "if(len(ip.split(\" \")) != 3):\n",
    "    print(\"Renter data(3 words only)\")"
   ]
  },
  {
   "cell_type": "code",
   "execution_count": 139,
   "metadata": {},
   "outputs": [
    {
     "data": {
      "text/plain": [
       "'TODA'"
      ]
     },
     "execution_count": 139,
     "metadata": {},
     "output_type": "execute_result"
    }
   ],
   "source": [
    "inp_X = zeros((1,93,3))\n",
    "for word_no,word in enumerate(ip.split(\" \")):\n",
    "    inp_X[0,unique_words.index(word),word_no] = 1\n",
    "\n",
    "prob = nn.predict(inp_X)\n",
    "from numpy import argmax\n",
    "unique_words[argmax(prob)]"
   ]
  },
  {
   "cell_type": "markdown",
   "metadata": {},
   "source": [
    "        W = pd.DataFrame([unique_words,prob[0]]).T\n",
    "        W.columns = [\"Word\",\"Prob\"]\n",
    "        W.sort_values(by=\"Prob\",ascending=False)"
   ]
  },
  {
   "cell_type": "code",
   "execution_count": null,
   "metadata": {},
   "outputs": [],
   "source": []
  }
 ],
 "metadata": {
  "kernelspec": {
   "display_name": "Python 3",
   "language": "python",
   "name": "python3"
  },
  "language_info": {
   "codemirror_mode": {
    "name": "ipython",
    "version": 3
   },
   "file_extension": ".py",
   "mimetype": "text/x-python",
   "name": "python",
   "nbconvert_exporter": "python",
   "pygments_lexer": "ipython3",
   "version": "3.7.2"
  }
 },
 "nbformat": 4,
 "nbformat_minor": 4
}
